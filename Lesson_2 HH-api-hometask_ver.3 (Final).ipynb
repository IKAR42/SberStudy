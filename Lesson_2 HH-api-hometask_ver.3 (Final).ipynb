{
 "cells": [
  {
   "cell_type": "code",
   "execution_count": 1,
   "metadata": {},
   "outputs": [],
   "source": [
    "import requests\n",
    "from tqdm.auto import tqdm"
   ]
  },
  {
   "cell_type": "code",
   "execution_count": 2,
   "metadata": {},
   "outputs": [],
   "source": [
    "import pandas as pd\n",
    "import numpy as np\n",
    "import csv"
   ]
  },
  {
   "cell_type": "code",
   "execution_count": 3,
   "metadata": {},
   "outputs": [],
   "source": [
    "sber = '3529'\n",
    "page = 1\n",
    "num_per_page = 100\n",
    "moscow = 1\n",
    "url = f'https://api.hh.ru/vacancies?employer_id={sber}&page={page}&per_page={num_per_page}&area={moscow}'"
   ]
  },
  {
   "cell_type": "code",
   "execution_count": 4,
   "metadata": {},
   "outputs": [
    {
     "data": {
      "text/plain": [
       "20"
      ]
     },
     "execution_count": 4,
     "metadata": {},
     "output_type": "execute_result"
    }
   ],
   "source": [
    "res = requests.get(url)\n",
    "vacancies = res.json()\n",
    "num_pages = vacancies.get('pages')\n",
    "num_pages"
   ]
  },
  {
   "cell_type": "code",
   "execution_count": 5,
   "metadata": {},
   "outputs": [],
   "source": [
    "vacancies = res.json()\n",
    "num_pages = vacancies.get('pages')\n",
    "vacancy_ids = [el.get('id') for el in vacancies.get('items')]"
   ]
  },
  {
   "cell_type": "code",
   "execution_count": 6,
   "metadata": {},
   "outputs": [
    {
     "data": {
      "text/plain": [
       "dict_keys(['items', 'found', 'pages', 'per_page', 'page', 'clusters', 'arguments', 'alternate_url'])"
      ]
     },
     "execution_count": 6,
     "metadata": {},
     "output_type": "execute_result"
    }
   ],
   "source": [
    "vacancies.keys()"
   ]
  },
  {
   "cell_type": "code",
   "execution_count": null,
   "metadata": {},
   "outputs": [],
   "source": []
  },
  {
   "cell_type": "code",
   "execution_count": 7,
   "metadata": {},
   "outputs": [
    {
     "data": {
      "application/vnd.jupyter.widget-view+json": {
       "model_id": "53ce0a9e3c774ddfaf6fc252b63a6710",
       "version_major": 2,
       "version_minor": 0
      },
      "text/plain": [
       "HBox(children=(FloatProgress(value=0.0, max=20.0), HTML(value='')))"
      ]
     },
     "metadata": {},
     "output_type": "display_data"
    },
    {
     "name": "stdout",
     "output_type": "stream",
     "text": [
      "\n"
     ]
    }
   ],
   "source": [
    "all_vacancy_ids= []\n",
    "for i in tqdm(range(vacancies.get('pages'))):\n",
    "    url = f'https://api.hh.ru/vacancies?employer_id={sber}&page={i}&per_page={num_per_page}&area={moscow}'\n",
    "    res = requests.get(url)\n",
    "    vacancies = res.json()\n",
    "    vacancy_ids = [el.get('id') for el in vacancies.get('items')]\n",
    "    all_vacancy_ids.extend(vacancy_ids)"
   ]
  },
  {
   "cell_type": "code",
   "execution_count": 8,
   "metadata": {},
   "outputs": [
    {
     "data": {
      "text/plain": [
       "2000"
      ]
     },
     "execution_count": 8,
     "metadata": {},
     "output_type": "execute_result"
    }
   ],
   "source": [
    "len(all_vacancy_ids)"
   ]
  },
  {
   "cell_type": "code",
   "execution_count": 9,
   "metadata": {},
   "outputs": [],
   "source": [
    "vac_id = 43326020\n",
    "url = f'https://api.hh.ru/vacancies/{vac_id}'\n",
    "res = requests.get(url)\n",
    "vacancy = res.json()"
   ]
  },
  {
   "cell_type": "code",
   "execution_count": 10,
   "metadata": {},
   "outputs": [
    {
     "data": {
      "text/plain": [
       "dict"
      ]
     },
     "execution_count": 10,
     "metadata": {},
     "output_type": "execute_result"
    }
   ],
   "source": [
    "type(vacancy)"
   ]
  },
  {
   "cell_type": "code",
   "execution_count": 11,
   "metadata": {},
   "outputs": [],
   "source": [
    "from collections import defaultdict\n",
    "tab_dict2 = defaultdict(list)"
   ]
  },
  {
   "cell_type": "code",
   "execution_count": 12,
   "metadata": {},
   "outputs": [
    {
     "data": {
      "application/vnd.jupyter.widget-view+json": {
       "model_id": "ba2c010f77cf48948ae23ba2ac520611",
       "version_major": 2,
       "version_minor": 0
      },
      "text/plain": [
       "HBox(children=(FloatProgress(value=0.0, max=2000.0), HTML(value='')))"
      ]
     },
     "metadata": {},
     "output_type": "display_data"
    },
    {
     "name": "stdout",
     "output_type": "stream",
     "text": [
      "\n"
     ]
    }
   ],
   "source": [
    "for vac_id in tqdm(all_vacancy_ids):\n",
    "    url = f'https://api.hh.ru/vacancies/{vac_id}'\n",
    "    res = requests.get(url)\n",
    "    vacancy = res.json()\n",
    "    tab_dict2['id'].append(vacancy.get('id'))\n",
    "    tab_dict2['name'].append(vacancy.get('name'))\n",
    "    tab_dict2['published_at'].append(vacancy.get('published_at'))\n",
    "    tab_dict2['description'].append(vacancy.get('description'))\n",
    "    skills = ','.join([x.get('name') for x in vacancy.get('key_skills')])\n",
    "    tab_dict2['key_skills'].append(skills)"
   ]
  },
  {
   "cell_type": "code",
   "execution_count": 17,
   "metadata": {},
   "outputs": [],
   "source": [
    "#импортируем полученный результат в Data frame pandas\n",
    "\n",
    "df_1 = pd.DataFrame(tab_dict2)"
   ]
  },
  {
   "cell_type": "code",
   "execution_count": 18,
   "metadata": {},
   "outputs": [
    {
     "name": "stdout",
     "output_type": "stream",
     "text": [
      "<class 'pandas.core.frame.DataFrame'>\n",
      "RangeIndex: 2000 entries, 0 to 1999\n",
      "Data columns (total 5 columns):\n",
      " #   Column        Non-Null Count  Dtype \n",
      "---  ------        --------------  ----- \n",
      " 0   id            2000 non-null   object\n",
      " 1   name          2000 non-null   object\n",
      " 2   published_at  2000 non-null   object\n",
      " 3   description   2000 non-null   object\n",
      " 4   key_skills    2000 non-null   object\n",
      "dtypes: object(5)\n",
      "memory usage: 78.2+ KB\n"
     ]
    }
   ],
   "source": [
    "#изучаем полученный результат и структуру данных во фрейме\n",
    "\n",
    "df_1.info()"
   ]
  },
  {
   "cell_type": "code",
   "execution_count": 19,
   "metadata": {},
   "outputs": [
    {
     "data": {
      "text/html": [
       "<div>\n",
       "<style scoped>\n",
       "    .dataframe tbody tr th:only-of-type {\n",
       "        vertical-align: middle;\n",
       "    }\n",
       "\n",
       "    .dataframe tbody tr th {\n",
       "        vertical-align: top;\n",
       "    }\n",
       "\n",
       "    .dataframe thead th {\n",
       "        text-align: right;\n",
       "    }\n",
       "</style>\n",
       "<table border=\"1\" class=\"dataframe\">\n",
       "  <thead>\n",
       "    <tr style=\"text-align: right;\">\n",
       "      <th></th>\n",
       "      <th>id</th>\n",
       "      <th>name</th>\n",
       "      <th>published_at</th>\n",
       "      <th>description</th>\n",
       "      <th>key_skills</th>\n",
       "    </tr>\n",
       "  </thead>\n",
       "  <tbody>\n",
       "    <tr>\n",
       "      <th>0</th>\n",
       "      <td>46380141</td>\n",
       "      <td>Клиентский менеджер внешней дистрибуции (Прямы...</td>\n",
       "      <td>2021-10-14T14:48:43+0300</td>\n",
       "      <td>&lt;p&gt;Хочешь работать в банке, но офисная рутина ...</td>\n",
       "      <td>Активные продажи,Работа в команде,Навыки прода...</td>\n",
       "    </tr>\n",
       "    <tr>\n",
       "      <th>1</th>\n",
       "      <td>46943947</td>\n",
       "      <td>Клиентский менеджер прямых продаж</td>\n",
       "      <td>2021-10-11T11:10:21+0300</td>\n",
       "      <td>&lt;p&gt;У каждого нашего зарплатного клиента – комп...</td>\n",
       "      <td></td>\n",
       "    </tr>\n",
       "    <tr>\n",
       "      <th>2</th>\n",
       "      <td>44951547</td>\n",
       "      <td>Клиентский менеджер</td>\n",
       "      <td>2021-10-06T20:09:35+0300</td>\n",
       "      <td>&lt;p&gt;Клиентский менеджер ― специалист, который п...</td>\n",
       "      <td>Активные продажи,Прямые продажи</td>\n",
       "    </tr>\n",
       "    <tr>\n",
       "      <th>3</th>\n",
       "      <td>48829770</td>\n",
       "      <td>Ведущий разработчик (С/C++)</td>\n",
       "      <td>2021-10-14T10:00:20+0300</td>\n",
       "      <td>&lt;p&gt; &lt;/p&gt; &lt;p&gt;&lt;strong&gt;Обязанности:&lt;/strong&gt;&lt;/p&gt; ...</td>\n",
       "      <td></td>\n",
       "    </tr>\n",
       "    <tr>\n",
       "      <th>4</th>\n",
       "      <td>49259518</td>\n",
       "      <td>Стажер по направлению Data Science от SBERSEASONS</td>\n",
       "      <td>2021-10-29T19:39:59+0300</td>\n",
       "      <td>&lt;p&gt;Любишь работать с данными и хочешь применит...</td>\n",
       "      <td>Python,SQL,MS PowerPoint,Data Analysis</td>\n",
       "    </tr>\n",
       "    <tr>\n",
       "      <th>5</th>\n",
       "      <td>49126699</td>\n",
       "      <td>Менеджер по обслуживанию</td>\n",
       "      <td>2021-10-25T17:19:22+0300</td>\n",
       "      <td>&lt;p&gt;&lt;strong&gt;Если ты:&lt;/strong&gt;&lt;/p&gt; &lt;ul&gt; &lt;li&gt;хоче...</td>\n",
       "      <td>Работа в команде,Работа с клиентами,Консультир...</td>\n",
       "    </tr>\n",
       "    <tr>\n",
       "      <th>6</th>\n",
       "      <td>48419849</td>\n",
       "      <td>Администратор зала</td>\n",
       "      <td>2021-11-03T10:47:34+0300</td>\n",
       "      <td>&lt;p&gt;&lt;strong&gt;Обязанности:&lt;/strong&gt;&lt;/p&gt; &lt;ul&gt; &lt;li&gt;...</td>\n",
       "      <td></td>\n",
       "    </tr>\n",
       "    <tr>\n",
       "      <th>7</th>\n",
       "      <td>48160324</td>\n",
       "      <td>Менеджер службы заботы</td>\n",
       "      <td>2021-10-19T15:28:19+0300</td>\n",
       "      <td>&lt;p&gt;Cлужба заботы F1 отвечает за оперативную по...</td>\n",
       "      <td>Грамотная речь,Работа в команде,Деловое общени...</td>\n",
       "    </tr>\n",
       "    <tr>\n",
       "      <th>8</th>\n",
       "      <td>49082970</td>\n",
       "      <td>Помощник руководителя</td>\n",
       "      <td>2021-10-22T19:26:27+0300</td>\n",
       "      <td>&lt;strong&gt;Обязанности:&lt;/strong&gt; &lt;ul&gt; &lt;li&gt;Полная ...</td>\n",
       "      <td>Административная поддержка руководителя,Планир...</td>\n",
       "    </tr>\n",
       "    <tr>\n",
       "      <th>9</th>\n",
       "      <td>49231348</td>\n",
       "      <td>Редактор-переводчик в Аналитическое управление</td>\n",
       "      <td>2021-10-28T19:19:59+0300</td>\n",
       "      <td>&lt;strong&gt;Обязанности:&lt;/strong&gt; &lt;ul&gt; &lt;li&gt; &lt;p&gt;Пер...</td>\n",
       "      <td>Письменный перевод,Редактирование текстов на и...</td>\n",
       "    </tr>\n",
       "  </tbody>\n",
       "</table>\n",
       "</div>"
      ],
      "text/plain": [
       "         id                                               name  \\\n",
       "0  46380141  Клиентский менеджер внешней дистрибуции (Прямы...   \n",
       "1  46943947                  Клиентский менеджер прямых продаж   \n",
       "2  44951547                                Клиентский менеджер   \n",
       "3  48829770                        Ведущий разработчик (С/C++)   \n",
       "4  49259518  Стажер по направлению Data Science от SBERSEASONS   \n",
       "5  49126699                           Менеджер по обслуживанию   \n",
       "6  48419849                                 Администратор зала   \n",
       "7  48160324                             Менеджер службы заботы   \n",
       "8  49082970                              Помощник руководителя   \n",
       "9  49231348     Редактор-переводчик в Аналитическое управление   \n",
       "\n",
       "               published_at  \\\n",
       "0  2021-10-14T14:48:43+0300   \n",
       "1  2021-10-11T11:10:21+0300   \n",
       "2  2021-10-06T20:09:35+0300   \n",
       "3  2021-10-14T10:00:20+0300   \n",
       "4  2021-10-29T19:39:59+0300   \n",
       "5  2021-10-25T17:19:22+0300   \n",
       "6  2021-11-03T10:47:34+0300   \n",
       "7  2021-10-19T15:28:19+0300   \n",
       "8  2021-10-22T19:26:27+0300   \n",
       "9  2021-10-28T19:19:59+0300   \n",
       "\n",
       "                                         description  \\\n",
       "0  <p>Хочешь работать в банке, но офисная рутина ...   \n",
       "1  <p>У каждого нашего зарплатного клиента – комп...   \n",
       "2  <p>Клиентский менеджер ― специалист, который п...   \n",
       "3  <p> </p> <p><strong>Обязанности:</strong></p> ...   \n",
       "4  <p>Любишь работать с данными и хочешь применит...   \n",
       "5  <p><strong>Если ты:</strong></p> <ul> <li>хоче...   \n",
       "6  <p><strong>Обязанности:</strong></p> <ul> <li>...   \n",
       "7  <p>Cлужба заботы F1 отвечает за оперативную по...   \n",
       "8  <strong>Обязанности:</strong> <ul> <li>Полная ...   \n",
       "9  <strong>Обязанности:</strong> <ul> <li> <p>Пер...   \n",
       "\n",
       "                                          key_skills  \n",
       "0  Активные продажи,Работа в команде,Навыки прода...  \n",
       "1                                                     \n",
       "2                    Активные продажи,Прямые продажи  \n",
       "3                                                     \n",
       "4             Python,SQL,MS PowerPoint,Data Analysis  \n",
       "5  Работа в команде,Работа с клиентами,Консультир...  \n",
       "6                                                     \n",
       "7  Грамотная речь,Работа в команде,Деловое общени...  \n",
       "8  Административная поддержка руководителя,Планир...  \n",
       "9  Письменный перевод,Редактирование текстов на и...  "
      ]
     },
     "execution_count": 19,
     "metadata": {},
     "output_type": "execute_result"
    }
   ],
   "source": [
    "df_1.head(10)"
   ]
  },
  {
   "cell_type": "markdown",
   "metadata": {},
   "source": [
    "# Практическая часть"
   ]
  },
  {
   "cell_type": "markdown",
   "metadata": {},
   "source": [
    "### 1. Задание вытащить все вакансии СБЕРа с ХХ (у апи есть ограничение в 2000, подумайте как его обойти)"
   ]
  },
  {
   "cell_type": "code",
   "execution_count": null,
   "metadata": {},
   "outputs": [],
   "source": [
    "Единственное что удалось найти это изменение параметров - page=2 или offset=2500 \n",
    "Также в оф описании API HH написано, что можно с помощью отдельных параметров (в т.ч. пагинации) обращаться к определенным частям \n",
    "генеральной совокупности.\n",
    "\n",
    "! Интересное наблюдение, что указанный выше скрипт вытащил не 2 тыс., а 2,8 тыс. записей"
   ]
  },
  {
   "cell_type": "markdown",
   "metadata": {},
   "source": [
    "### 2. Вытащите все полные описания этих вакансий по запросу с https://api.hh.ru/vacancies/43326020 где 43326020 id вакансии"
   ]
  },
  {
   "cell_type": "code",
   "execution_count": 18,
   "metadata": {},
   "outputs": [
    {
     "data": {
      "text/plain": [
       "0       <p>Хочешь работать в банке, но офисная рутина ...\n",
       "1       <p>У каждого нашего зарплатного клиента – комп...\n",
       "2       <p>Cлужба заботы F1 отвечает за оперативную по...\n",
       "3       <p><strong>Обязанности:</strong></p> <ul> <li>...\n",
       "4       <p>Мы ищем коллегу, который будет помогать наш...\n",
       "                              ...                        \n",
       "1995    <p>Мы создаем платформу данных для розничного ...\n",
       "1996    <p>В подразделении рисков Sberbank CIB открыты...\n",
       "1997    <p></p><p><b></b></p><p><b>SberData</b> - депа...\n",
       "1998    <p><strong>Team/Tech lead java</strong></p> <p...\n",
       "1999    <p>Сегодня Сбер – это уже не просто банк, это ...\n",
       "Name: description, Length: 2000, dtype: object"
      ]
     },
     "execution_count": 18,
     "metadata": {},
     "output_type": "execute_result"
    }
   ],
   "source": [
    "df_1.description"
   ]
  },
  {
   "cell_type": "markdown",
   "metadata": {},
   "source": [
    "### 3. Создайте аналогичный vacancy DataFrame только добавьте поле skills"
   ]
  },
  {
   "cell_type": "code",
   "execution_count": 76,
   "metadata": {},
   "outputs": [
    {
     "data": {
      "text/html": [
       "<div>\n",
       "<style scoped>\n",
       "    .dataframe tbody tr th:only-of-type {\n",
       "        vertical-align: middle;\n",
       "    }\n",
       "\n",
       "    .dataframe tbody tr th {\n",
       "        vertical-align: top;\n",
       "    }\n",
       "\n",
       "    .dataframe thead th {\n",
       "        text-align: right;\n",
       "    }\n",
       "</style>\n",
       "<table border=\"1\" class=\"dataframe\">\n",
       "  <thead>\n",
       "    <tr style=\"text-align: right;\">\n",
       "      <th></th>\n",
       "      <th>id</th>\n",
       "      <th>name</th>\n",
       "      <th>published_at</th>\n",
       "      <th>description</th>\n",
       "      <th>key_skills</th>\n",
       "      <th>vacdate</th>\n",
       "    </tr>\n",
       "  </thead>\n",
       "  <tbody>\n",
       "    <tr>\n",
       "      <th>0</th>\n",
       "      <td>46380141</td>\n",
       "      <td>Клиентский менеджер внешней дистрибуции (Прямы...</td>\n",
       "      <td>2021-10-14T14:48:43+0300</td>\n",
       "      <td>&lt;p&gt;Хочешь работать в банке, но офисная рутина ...</td>\n",
       "      <td>Активные продажи,Работа в команде,Навыки прода...</td>\n",
       "      <td>2021-10-14</td>\n",
       "    </tr>\n",
       "    <tr>\n",
       "      <th>1</th>\n",
       "      <td>46943947</td>\n",
       "      <td>Клиентский менеджер прямых продаж</td>\n",
       "      <td>2021-10-11T11:10:21+0300</td>\n",
       "      <td>&lt;p&gt;У каждого нашего зарплатного клиента – комп...</td>\n",
       "      <td></td>\n",
       "      <td>2021-10-11</td>\n",
       "    </tr>\n",
       "    <tr>\n",
       "      <th>2</th>\n",
       "      <td>44951547</td>\n",
       "      <td>Клиентский менеджер</td>\n",
       "      <td>2021-10-06T20:09:35+0300</td>\n",
       "      <td>&lt;p&gt;Клиентский менеджер ― специалист, который п...</td>\n",
       "      <td>Активные продажи,Прямые продажи</td>\n",
       "      <td>2021-10-06</td>\n",
       "    </tr>\n",
       "  </tbody>\n",
       "</table>\n",
       "</div>"
      ],
      "text/plain": [
       "         id                                               name  \\\n",
       "0  46380141  Клиентский менеджер внешней дистрибуции (Прямы...   \n",
       "1  46943947                  Клиентский менеджер прямых продаж   \n",
       "2  44951547                                Клиентский менеджер   \n",
       "\n",
       "               published_at  \\\n",
       "0  2021-10-14T14:48:43+0300   \n",
       "1  2021-10-11T11:10:21+0300   \n",
       "2  2021-10-06T20:09:35+0300   \n",
       "\n",
       "                                         description  \\\n",
       "0  <p>Хочешь работать в банке, но офисная рутина ...   \n",
       "1  <p>У каждого нашего зарплатного клиента – комп...   \n",
       "2  <p>Клиентский менеджер ― специалист, который п...   \n",
       "\n",
       "                                          key_skills     vacdate  \n",
       "0  Активные продажи,Работа в команде,Навыки прода...  2021-10-14  \n",
       "1                                                     2021-10-11  \n",
       "2                    Активные продажи,Прямые продажи  2021-10-06  "
      ]
     },
     "execution_count": 76,
     "metadata": {},
     "output_type": "execute_result"
    }
   ],
   "source": [
    "df_2 = df_1.copy()\n",
    "df_2.head(3)"
   ]
  },
  {
   "cell_type": "code",
   "execution_count": 78,
   "metadata": {},
   "outputs": [
    {
     "data": {
      "text/plain": [
       "Index(['id', 'name', 'published_at', 'description', 'key_skills', 'vacdate'], dtype='object')"
      ]
     },
     "execution_count": 78,
     "metadata": {},
     "output_type": "execute_result"
    }
   ],
   "source": [
    "df_2.columns"
   ]
  },
  {
   "cell_type": "code",
   "execution_count": 79,
   "metadata": {},
   "outputs": [
    {
     "data": {
      "text/plain": [
       "Index(['id', 'name', 'published_at', 'description', 'key_skills', 'vacdate',\n",
       "       'skills'],\n",
       "      dtype='object')"
      ]
     },
     "execution_count": 79,
     "metadata": {},
     "output_type": "execute_result"
    }
   ],
   "source": [
    "df_2[\"skills\"] = df_2['key_skills']\n",
    "df_2.columns"
   ]
  },
  {
   "cell_type": "code",
   "execution_count": 80,
   "metadata": {},
   "outputs": [
    {
     "data": {
      "text/html": [
       "<div>\n",
       "<style scoped>\n",
       "    .dataframe tbody tr th:only-of-type {\n",
       "        vertical-align: middle;\n",
       "    }\n",
       "\n",
       "    .dataframe tbody tr th {\n",
       "        vertical-align: top;\n",
       "    }\n",
       "\n",
       "    .dataframe thead th {\n",
       "        text-align: right;\n",
       "    }\n",
       "</style>\n",
       "<table border=\"1\" class=\"dataframe\">\n",
       "  <thead>\n",
       "    <tr style=\"text-align: right;\">\n",
       "      <th></th>\n",
       "      <th>id</th>\n",
       "      <th>name</th>\n",
       "      <th>published_at</th>\n",
       "      <th>description</th>\n",
       "      <th>key_skills</th>\n",
       "      <th>vacdate</th>\n",
       "      <th>skills</th>\n",
       "    </tr>\n",
       "  </thead>\n",
       "  <tbody>\n",
       "    <tr>\n",
       "      <th>0</th>\n",
       "      <td>46380141</td>\n",
       "      <td>Клиентский менеджер внешней дистрибуции (Прямы...</td>\n",
       "      <td>2021-10-14T14:48:43+0300</td>\n",
       "      <td>&lt;p&gt;Хочешь работать в банке, но офисная рутина ...</td>\n",
       "      <td>Активные продажи,Работа в команде,Навыки прода...</td>\n",
       "      <td>2021-10-14</td>\n",
       "      <td>Активные продажи,Работа в команде,Навыки прода...</td>\n",
       "    </tr>\n",
       "    <tr>\n",
       "      <th>1</th>\n",
       "      <td>46943947</td>\n",
       "      <td>Клиентский менеджер прямых продаж</td>\n",
       "      <td>2021-10-11T11:10:21+0300</td>\n",
       "      <td>&lt;p&gt;У каждого нашего зарплатного клиента – комп...</td>\n",
       "      <td></td>\n",
       "      <td>2021-10-11</td>\n",
       "      <td>NaN</td>\n",
       "    </tr>\n",
       "    <tr>\n",
       "      <th>2</th>\n",
       "      <td>44951547</td>\n",
       "      <td>Клиентский менеджер</td>\n",
       "      <td>2021-10-06T20:09:35+0300</td>\n",
       "      <td>&lt;p&gt;Клиентский менеджер ― специалист, который п...</td>\n",
       "      <td>Активные продажи,Прямые продажи</td>\n",
       "      <td>2021-10-06</td>\n",
       "      <td>Активные продажи,Прямые продажи</td>\n",
       "    </tr>\n",
       "  </tbody>\n",
       "</table>\n",
       "</div>"
      ],
      "text/plain": [
       "         id                                               name  \\\n",
       "0  46380141  Клиентский менеджер внешней дистрибуции (Прямы...   \n",
       "1  46943947                  Клиентский менеджер прямых продаж   \n",
       "2  44951547                                Клиентский менеджер   \n",
       "\n",
       "               published_at  \\\n",
       "0  2021-10-14T14:48:43+0300   \n",
       "1  2021-10-11T11:10:21+0300   \n",
       "2  2021-10-06T20:09:35+0300   \n",
       "\n",
       "                                         description  \\\n",
       "0  <p>Хочешь работать в банке, но офисная рутина ...   \n",
       "1  <p>У каждого нашего зарплатного клиента – комп...   \n",
       "2  <p>Клиентский менеджер ― специалист, который п...   \n",
       "\n",
       "                                          key_skills     vacdate  \\\n",
       "0  Активные продажи,Работа в команде,Навыки прода...  2021-10-14   \n",
       "1                                                     2021-10-11   \n",
       "2                    Активные продажи,Прямые продажи  2021-10-06   \n",
       "\n",
       "                                              skills  \n",
       "0  Активные продажи,Работа в команде,Навыки прода...  \n",
       "1                                                NaN  \n",
       "2                    Активные продажи,Прямые продажи  "
      ]
     },
     "execution_count": 80,
     "metadata": {},
     "output_type": "execute_result"
    }
   ],
   "source": [
    "#преобразовываем пустые ячейки в NaN для того чтобы определить вакансии, где это поле не заполнено \n",
    "#(предобрабатываем данные для следующего задания)\n",
    "\n",
    "df_2['skills'].replace('', np.nan, inplace=True)\n",
    "df_2.head(3)"
   ]
  },
  {
   "cell_type": "code",
   "execution_count": 81,
   "metadata": {},
   "outputs": [
    {
     "data": {
      "text/html": [
       "<div>\n",
       "<style scoped>\n",
       "    .dataframe tbody tr th:only-of-type {\n",
       "        vertical-align: middle;\n",
       "    }\n",
       "\n",
       "    .dataframe tbody tr th {\n",
       "        vertical-align: top;\n",
       "    }\n",
       "\n",
       "    .dataframe thead th {\n",
       "        text-align: right;\n",
       "    }\n",
       "</style>\n",
       "<table border=\"1\" class=\"dataframe\">\n",
       "  <thead>\n",
       "    <tr style=\"text-align: right;\">\n",
       "      <th></th>\n",
       "      <th>id</th>\n",
       "      <th>name</th>\n",
       "      <th>published_at</th>\n",
       "      <th>description</th>\n",
       "      <th>key_skills</th>\n",
       "      <th>vacdate</th>\n",
       "      <th>skills</th>\n",
       "    </tr>\n",
       "  </thead>\n",
       "  <tbody>\n",
       "    <tr>\n",
       "      <th>0</th>\n",
       "      <td>46380141</td>\n",
       "      <td>Клиентский менеджер внешней дистрибуции (Прямы...</td>\n",
       "      <td>2021-10-14T14:48:43+0300</td>\n",
       "      <td>&lt;p&gt;Хочешь работать в банке, но офисная рутина ...</td>\n",
       "      <td>Активные продажи,Работа в команде,Навыки прода...</td>\n",
       "      <td>2021-10-14</td>\n",
       "      <td>Активные продажи,Работа в команде,Навыки прода...</td>\n",
       "    </tr>\n",
       "    <tr>\n",
       "      <th>2</th>\n",
       "      <td>44951547</td>\n",
       "      <td>Клиентский менеджер</td>\n",
       "      <td>2021-10-06T20:09:35+0300</td>\n",
       "      <td>&lt;p&gt;Клиентский менеджер ― специалист, который п...</td>\n",
       "      <td>Активные продажи,Прямые продажи</td>\n",
       "      <td>2021-10-06</td>\n",
       "      <td>Активные продажи,Прямые продажи</td>\n",
       "    </tr>\n",
       "    <tr>\n",
       "      <th>4</th>\n",
       "      <td>49259518</td>\n",
       "      <td>Стажер по направлению Data Science от SBERSEASONS</td>\n",
       "      <td>2021-10-29T19:39:59+0300</td>\n",
       "      <td>&lt;p&gt;Любишь работать с данными и хочешь применит...</td>\n",
       "      <td>Python,SQL,MS PowerPoint,Data Analysis</td>\n",
       "      <td>2021-10-29</td>\n",
       "      <td>Python,SQL,MS PowerPoint,Data Analysis</td>\n",
       "    </tr>\n",
       "  </tbody>\n",
       "</table>\n",
       "</div>"
      ],
      "text/plain": [
       "         id                                               name  \\\n",
       "0  46380141  Клиентский менеджер внешней дистрибуции (Прямы...   \n",
       "2  44951547                                Клиентский менеджер   \n",
       "4  49259518  Стажер по направлению Data Science от SBERSEASONS   \n",
       "\n",
       "               published_at  \\\n",
       "0  2021-10-14T14:48:43+0300   \n",
       "2  2021-10-06T20:09:35+0300   \n",
       "4  2021-10-29T19:39:59+0300   \n",
       "\n",
       "                                         description  \\\n",
       "0  <p>Хочешь работать в банке, но офисная рутина ...   \n",
       "2  <p>Клиентский менеджер ― специалист, который п...   \n",
       "4  <p>Любишь работать с данными и хочешь применит...   \n",
       "\n",
       "                                          key_skills     vacdate  \\\n",
       "0  Активные продажи,Работа в команде,Навыки прода...  2021-10-14   \n",
       "2                    Активные продажи,Прямые продажи  2021-10-06   \n",
       "4             Python,SQL,MS PowerPoint,Data Analysis  2021-10-29   \n",
       "\n",
       "                                              skills  \n",
       "0  Активные продажи,Работа в команде,Навыки прода...  \n",
       "2                    Активные продажи,Прямые продажи  \n",
       "4             Python,SQL,MS PowerPoint,Data Analysis  "
      ]
     },
     "execution_count": 81,
     "metadata": {},
     "output_type": "execute_result"
    }
   ],
   "source": [
    "#удаляем строки где skill имеет значение NaN\n",
    "\n",
    "df_2 = df_2[~df_2['skills'].isnull()]\n",
    "df_2.head(3)"
   ]
  },
  {
   "cell_type": "markdown",
   "metadata": {},
   "source": [
    "### 4. Переведите даты публикаций в datetime"
   ]
  },
  {
   "cell_type": "code",
   "execution_count": 82,
   "metadata": {},
   "outputs": [
    {
     "name": "stdout",
     "output_type": "stream",
     "text": [
      "<class 'pandas.core.frame.DataFrame'>\n",
      "RangeIndex: 2000 entries, 0 to 1999\n",
      "Data columns (total 6 columns):\n",
      " #   Column        Non-Null Count  Dtype                                \n",
      "---  ------        --------------  -----                                \n",
      " 0   id            2000 non-null   object                               \n",
      " 1   name          2000 non-null   object                               \n",
      " 2   published_at  2000 non-null   datetime64[ns, pytz.FixedOffset(180)]\n",
      " 3   description   2000 non-null   object                               \n",
      " 4   key_skills    2000 non-null   object                               \n",
      " 5   vacdate       2000 non-null   object                               \n",
      "dtypes: datetime64[ns, pytz.FixedOffset(180)](1), object(5)\n",
      "memory usage: 93.9+ KB\n"
     ]
    }
   ],
   "source": [
    "df_1.published_at = pd.to_datetime(df_1.published_at)\n",
    "df_1.info()"
   ]
  },
  {
   "cell_type": "markdown",
   "metadata": {},
   "source": [
    "### 5. Постройте график опубликованных вакансий по датам"
   ]
  },
  {
   "cell_type": "code",
   "execution_count": 66,
   "metadata": {},
   "outputs": [],
   "source": [
    "import matplotlib.pyplot as plt"
   ]
  },
  {
   "cell_type": "code",
   "execution_count": 67,
   "metadata": {},
   "outputs": [
    {
     "data": {
      "text/html": [
       "<div>\n",
       "<style scoped>\n",
       "    .dataframe tbody tr th:only-of-type {\n",
       "        vertical-align: middle;\n",
       "    }\n",
       "\n",
       "    .dataframe tbody tr th {\n",
       "        vertical-align: top;\n",
       "    }\n",
       "\n",
       "    .dataframe thead th {\n",
       "        text-align: right;\n",
       "    }\n",
       "</style>\n",
       "<table border=\"1\" class=\"dataframe\">\n",
       "  <thead>\n",
       "    <tr style=\"text-align: right;\">\n",
       "      <th></th>\n",
       "      <th>id</th>\n",
       "      <th>name</th>\n",
       "      <th>published_at</th>\n",
       "      <th>description</th>\n",
       "      <th>key_skills</th>\n",
       "    </tr>\n",
       "  </thead>\n",
       "  <tbody>\n",
       "    <tr>\n",
       "      <th>0</th>\n",
       "      <td>46380141</td>\n",
       "      <td>Клиентский менеджер внешней дистрибуции (Прямы...</td>\n",
       "      <td>2021-10-14T14:48:43+0300</td>\n",
       "      <td>&lt;p&gt;Хочешь работать в банке, но офисная рутина ...</td>\n",
       "      <td>Активные продажи,Работа в команде,Навыки прода...</td>\n",
       "    </tr>\n",
       "    <tr>\n",
       "      <th>1</th>\n",
       "      <td>46943947</td>\n",
       "      <td>Клиентский менеджер прямых продаж</td>\n",
       "      <td>2021-10-11T11:10:21+0300</td>\n",
       "      <td>&lt;p&gt;У каждого нашего зарплатного клиента – комп...</td>\n",
       "      <td></td>\n",
       "    </tr>\n",
       "    <tr>\n",
       "      <th>2</th>\n",
       "      <td>44951547</td>\n",
       "      <td>Клиентский менеджер</td>\n",
       "      <td>2021-10-06T20:09:35+0300</td>\n",
       "      <td>&lt;p&gt;Клиентский менеджер ― специалист, который п...</td>\n",
       "      <td>Активные продажи,Прямые продажи</td>\n",
       "    </tr>\n",
       "    <tr>\n",
       "      <th>3</th>\n",
       "      <td>48829770</td>\n",
       "      <td>Ведущий разработчик (С/C++)</td>\n",
       "      <td>2021-10-14T10:00:20+0300</td>\n",
       "      <td>&lt;p&gt; &lt;/p&gt; &lt;p&gt;&lt;strong&gt;Обязанности:&lt;/strong&gt;&lt;/p&gt; ...</td>\n",
       "      <td></td>\n",
       "    </tr>\n",
       "    <tr>\n",
       "      <th>4</th>\n",
       "      <td>49259518</td>\n",
       "      <td>Стажер по направлению Data Science от SBERSEASONS</td>\n",
       "      <td>2021-10-29T19:39:59+0300</td>\n",
       "      <td>&lt;p&gt;Любишь работать с данными и хочешь применит...</td>\n",
       "      <td>Python,SQL,MS PowerPoint,Data Analysis</td>\n",
       "    </tr>\n",
       "  </tbody>\n",
       "</table>\n",
       "</div>"
      ],
      "text/plain": [
       "         id                                               name  \\\n",
       "0  46380141  Клиентский менеджер внешней дистрибуции (Прямы...   \n",
       "1  46943947                  Клиентский менеджер прямых продаж   \n",
       "2  44951547                                Клиентский менеджер   \n",
       "3  48829770                        Ведущий разработчик (С/C++)   \n",
       "4  49259518  Стажер по направлению Data Science от SBERSEASONS   \n",
       "\n",
       "               published_at  \\\n",
       "0  2021-10-14T14:48:43+0300   \n",
       "1  2021-10-11T11:10:21+0300   \n",
       "2  2021-10-06T20:09:35+0300   \n",
       "3  2021-10-14T10:00:20+0300   \n",
       "4  2021-10-29T19:39:59+0300   \n",
       "\n",
       "                                         description  \\\n",
       "0  <p>Хочешь работать в банке, но офисная рутина ...   \n",
       "1  <p>У каждого нашего зарплатного клиента – комп...   \n",
       "2  <p>Клиентский менеджер ― специалист, который п...   \n",
       "3  <p> </p> <p><strong>Обязанности:</strong></p> ...   \n",
       "4  <p>Любишь работать с данными и хочешь применит...   \n",
       "\n",
       "                                          key_skills  \n",
       "0  Активные продажи,Работа в команде,Навыки прода...  \n",
       "1                                                     \n",
       "2                    Активные продажи,Прямые продажи  \n",
       "3                                                     \n",
       "4             Python,SQL,MS PowerPoint,Data Analysis  "
      ]
     },
     "execution_count": 67,
     "metadata": {},
     "output_type": "execute_result"
    }
   ],
   "source": [
    "df_1.head(5)"
   ]
  },
  {
   "cell_type": "code",
   "execution_count": 68,
   "metadata": {},
   "outputs": [
    {
     "data": {
      "text/html": [
       "<div>\n",
       "<style scoped>\n",
       "    .dataframe tbody tr th:only-of-type {\n",
       "        vertical-align: middle;\n",
       "    }\n",
       "\n",
       "    .dataframe tbody tr th {\n",
       "        vertical-align: top;\n",
       "    }\n",
       "\n",
       "    .dataframe thead th {\n",
       "        text-align: right;\n",
       "    }\n",
       "</style>\n",
       "<table border=\"1\" class=\"dataframe\">\n",
       "  <thead>\n",
       "    <tr style=\"text-align: right;\">\n",
       "      <th></th>\n",
       "      <th>id</th>\n",
       "      <th>name</th>\n",
       "      <th>published_at</th>\n",
       "      <th>description</th>\n",
       "      <th>key_skills</th>\n",
       "      <th>vacdate</th>\n",
       "    </tr>\n",
       "  </thead>\n",
       "  <tbody>\n",
       "    <tr>\n",
       "      <th>0</th>\n",
       "      <td>46380141</td>\n",
       "      <td>Клиентский менеджер внешней дистрибуции (Прямы...</td>\n",
       "      <td>2021-10-14T14:48:43+0300</td>\n",
       "      <td>&lt;p&gt;Хочешь работать в банке, но офисная рутина ...</td>\n",
       "      <td>Активные продажи,Работа в команде,Навыки прода...</td>\n",
       "      <td>2021-10-14T14:48:43+0300</td>\n",
       "    </tr>\n",
       "    <tr>\n",
       "      <th>1</th>\n",
       "      <td>46943947</td>\n",
       "      <td>Клиентский менеджер прямых продаж</td>\n",
       "      <td>2021-10-11T11:10:21+0300</td>\n",
       "      <td>&lt;p&gt;У каждого нашего зарплатного клиента – комп...</td>\n",
       "      <td></td>\n",
       "      <td>2021-10-11T11:10:21+0300</td>\n",
       "    </tr>\n",
       "    <tr>\n",
       "      <th>2</th>\n",
       "      <td>44951547</td>\n",
       "      <td>Клиентский менеджер</td>\n",
       "      <td>2021-10-06T20:09:35+0300</td>\n",
       "      <td>&lt;p&gt;Клиентский менеджер ― специалист, который п...</td>\n",
       "      <td>Активные продажи,Прямые продажи</td>\n",
       "      <td>2021-10-06T20:09:35+0300</td>\n",
       "    </tr>\n",
       "    <tr>\n",
       "      <th>3</th>\n",
       "      <td>48829770</td>\n",
       "      <td>Ведущий разработчик (С/C++)</td>\n",
       "      <td>2021-10-14T10:00:20+0300</td>\n",
       "      <td>&lt;p&gt; &lt;/p&gt; &lt;p&gt;&lt;strong&gt;Обязанности:&lt;/strong&gt;&lt;/p&gt; ...</td>\n",
       "      <td></td>\n",
       "      <td>2021-10-14T10:00:20+0300</td>\n",
       "    </tr>\n",
       "    <tr>\n",
       "      <th>4</th>\n",
       "      <td>49259518</td>\n",
       "      <td>Стажер по направлению Data Science от SBERSEASONS</td>\n",
       "      <td>2021-10-29T19:39:59+0300</td>\n",
       "      <td>&lt;p&gt;Любишь работать с данными и хочешь применит...</td>\n",
       "      <td>Python,SQL,MS PowerPoint,Data Analysis</td>\n",
       "      <td>2021-10-29T19:39:59+0300</td>\n",
       "    </tr>\n",
       "  </tbody>\n",
       "</table>\n",
       "</div>"
      ],
      "text/plain": [
       "         id                                               name  \\\n",
       "0  46380141  Клиентский менеджер внешней дистрибуции (Прямы...   \n",
       "1  46943947                  Клиентский менеджер прямых продаж   \n",
       "2  44951547                                Клиентский менеджер   \n",
       "3  48829770                        Ведущий разработчик (С/C++)   \n",
       "4  49259518  Стажер по направлению Data Science от SBERSEASONS   \n",
       "\n",
       "               published_at  \\\n",
       "0  2021-10-14T14:48:43+0300   \n",
       "1  2021-10-11T11:10:21+0300   \n",
       "2  2021-10-06T20:09:35+0300   \n",
       "3  2021-10-14T10:00:20+0300   \n",
       "4  2021-10-29T19:39:59+0300   \n",
       "\n",
       "                                         description  \\\n",
       "0  <p>Хочешь работать в банке, но офисная рутина ...   \n",
       "1  <p>У каждого нашего зарплатного клиента – комп...   \n",
       "2  <p>Клиентский менеджер ― специалист, который п...   \n",
       "3  <p> </p> <p><strong>Обязанности:</strong></p> ...   \n",
       "4  <p>Любишь работать с данными и хочешь применит...   \n",
       "\n",
       "                                          key_skills                   vacdate  \n",
       "0  Активные продажи,Работа в команде,Навыки прода...  2021-10-14T14:48:43+0300  \n",
       "1                                                     2021-10-11T11:10:21+0300  \n",
       "2                    Активные продажи,Прямые продажи  2021-10-06T20:09:35+0300  \n",
       "3                                                     2021-10-14T10:00:20+0300  \n",
       "4             Python,SQL,MS PowerPoint,Data Analysis  2021-10-29T19:39:59+0300  "
      ]
     },
     "execution_count": 68,
     "metadata": {},
     "output_type": "execute_result"
    }
   ],
   "source": [
    "df_1['vacdate'] = df_1['published_at']\n",
    "df_1.head(5)"
   ]
  },
  {
   "cell_type": "code",
   "execution_count": 69,
   "metadata": {},
   "outputs": [
    {
     "data": {
      "text/html": [
       "<div>\n",
       "<style scoped>\n",
       "    .dataframe tbody tr th:only-of-type {\n",
       "        vertical-align: middle;\n",
       "    }\n",
       "\n",
       "    .dataframe tbody tr th {\n",
       "        vertical-align: top;\n",
       "    }\n",
       "\n",
       "    .dataframe thead th {\n",
       "        text-align: right;\n",
       "    }\n",
       "</style>\n",
       "<table border=\"1\" class=\"dataframe\">\n",
       "  <thead>\n",
       "    <tr style=\"text-align: right;\">\n",
       "      <th></th>\n",
       "      <th>id</th>\n",
       "      <th>name</th>\n",
       "      <th>published_at</th>\n",
       "      <th>description</th>\n",
       "      <th>key_skills</th>\n",
       "      <th>vacdate</th>\n",
       "    </tr>\n",
       "  </thead>\n",
       "  <tbody>\n",
       "    <tr>\n",
       "      <th>0</th>\n",
       "      <td>46380141</td>\n",
       "      <td>Клиентский менеджер внешней дистрибуции (Прямы...</td>\n",
       "      <td>2021-10-14T14:48:43+0300</td>\n",
       "      <td>&lt;p&gt;Хочешь работать в банке, но офисная рутина ...</td>\n",
       "      <td>Активные продажи,Работа в команде,Навыки прода...</td>\n",
       "      <td>2021-10-14</td>\n",
       "    </tr>\n",
       "    <tr>\n",
       "      <th>1</th>\n",
       "      <td>46943947</td>\n",
       "      <td>Клиентский менеджер прямых продаж</td>\n",
       "      <td>2021-10-11T11:10:21+0300</td>\n",
       "      <td>&lt;p&gt;У каждого нашего зарплатного клиента – комп...</td>\n",
       "      <td></td>\n",
       "      <td>2021-10-11</td>\n",
       "    </tr>\n",
       "    <tr>\n",
       "      <th>2</th>\n",
       "      <td>44951547</td>\n",
       "      <td>Клиентский менеджер</td>\n",
       "      <td>2021-10-06T20:09:35+0300</td>\n",
       "      <td>&lt;p&gt;Клиентский менеджер ― специалист, который п...</td>\n",
       "      <td>Активные продажи,Прямые продажи</td>\n",
       "      <td>2021-10-06</td>\n",
       "    </tr>\n",
       "    <tr>\n",
       "      <th>3</th>\n",
       "      <td>48829770</td>\n",
       "      <td>Ведущий разработчик (С/C++)</td>\n",
       "      <td>2021-10-14T10:00:20+0300</td>\n",
       "      <td>&lt;p&gt; &lt;/p&gt; &lt;p&gt;&lt;strong&gt;Обязанности:&lt;/strong&gt;&lt;/p&gt; ...</td>\n",
       "      <td></td>\n",
       "      <td>2021-10-14</td>\n",
       "    </tr>\n",
       "    <tr>\n",
       "      <th>4</th>\n",
       "      <td>49259518</td>\n",
       "      <td>Стажер по направлению Data Science от SBERSEASONS</td>\n",
       "      <td>2021-10-29T19:39:59+0300</td>\n",
       "      <td>&lt;p&gt;Любишь работать с данными и хочешь применит...</td>\n",
       "      <td>Python,SQL,MS PowerPoint,Data Analysis</td>\n",
       "      <td>2021-10-29</td>\n",
       "    </tr>\n",
       "  </tbody>\n",
       "</table>\n",
       "</div>"
      ],
      "text/plain": [
       "         id                                               name  \\\n",
       "0  46380141  Клиентский менеджер внешней дистрибуции (Прямы...   \n",
       "1  46943947                  Клиентский менеджер прямых продаж   \n",
       "2  44951547                                Клиентский менеджер   \n",
       "3  48829770                        Ведущий разработчик (С/C++)   \n",
       "4  49259518  Стажер по направлению Data Science от SBERSEASONS   \n",
       "\n",
       "               published_at  \\\n",
       "0  2021-10-14T14:48:43+0300   \n",
       "1  2021-10-11T11:10:21+0300   \n",
       "2  2021-10-06T20:09:35+0300   \n",
       "3  2021-10-14T10:00:20+0300   \n",
       "4  2021-10-29T19:39:59+0300   \n",
       "\n",
       "                                         description  \\\n",
       "0  <p>Хочешь работать в банке, но офисная рутина ...   \n",
       "1  <p>У каждого нашего зарплатного клиента – комп...   \n",
       "2  <p>Клиентский менеджер ― специалист, который п...   \n",
       "3  <p> </p> <p><strong>Обязанности:</strong></p> ...   \n",
       "4  <p>Любишь работать с данными и хочешь применит...   \n",
       "\n",
       "                                          key_skills     vacdate  \n",
       "0  Активные продажи,Работа в команде,Навыки прода...  2021-10-14  \n",
       "1                                                     2021-10-11  \n",
       "2                    Активные продажи,Прямые продажи  2021-10-06  \n",
       "3                                                     2021-10-14  \n",
       "4             Python,SQL,MS PowerPoint,Data Analysis  2021-10-29  "
      ]
     },
     "execution_count": 69,
     "metadata": {},
     "output_type": "execute_result"
    }
   ],
   "source": [
    "df_1['vacdate'] = pd.to_datetime(df_1['vacdate']).dt.date\n",
    "df_1.head(5)"
   ]
  },
  {
   "cell_type": "code",
   "execution_count": 71,
   "metadata": {},
   "outputs": [
    {
     "data": {
      "text/plain": [
       "vacdate\n",
       "2021-10-25    152\n",
       "2021-10-04    124\n",
       "2021-10-11    113\n",
       "2021-10-18    113\n",
       "2021-10-13    102\n",
       "Name: id, dtype: int64"
      ]
     },
     "execution_count": 71,
     "metadata": {},
     "output_type": "execute_result"
    }
   ],
   "source": [
    "vacs_stat = df_1.groupby('vacdate')['id'].count().sort_values(ascending=False)\n",
    "vacs_stat.head()"
   ]
  },
  {
   "cell_type": "code",
   "execution_count": 73,
   "metadata": {},
   "outputs": [],
   "source": [
    "from pylab import rcParams"
   ]
  },
  {
   "cell_type": "code",
   "execution_count": 74,
   "metadata": {},
   "outputs": [
    {
     "data": {
      "image/png": "[encoded data removed]",
      "text/plain": [
       "<Figure size 720x720 with 1 Axes>"
      ]
     },
     "metadata": {
      "needs_background": "light"
     },
     "output_type": "display_data"
    }
   ],
   "source": [
    "rcParams['figure.figsize'] = 10,10\n",
    "vacs_stat.plot(kind='barh')\n",
    "plt.show()"
   ]
  },
  {
   "cell_type": "markdown",
   "metadata": {},
   "source": [
    "### 6. Переведите даты в дни недели, и определите день недели, в который больше всего публикуют вакансий"
   ]
  },
  {
   "cell_type": "code",
   "execution_count": null,
   "metadata": {},
   "outputs": [],
   "source": [
    "#можно исполнять после того как будет зафиксирован датафрейм. скрипт ниже - шаблон"
   ]
  },
  {
   "cell_type": "code",
   "execution_count": 207,
   "metadata": {},
   "outputs": [],
   "source": [
    "import datetime"
   ]
  },
  {
   "cell_type": "code",
   "execution_count": 83,
   "metadata": {},
   "outputs": [
    {
     "name": "stdout",
     "output_type": "stream",
     "text": [
      "<class 'pandas.core.frame.DataFrame'>\n",
      "RangeIndex: 2000 entries, 0 to 1999\n",
      "Data columns (total 7 columns):\n",
      " #   Column        Non-Null Count  Dtype                                \n",
      "---  ------        --------------  -----                                \n",
      " 0   id            2000 non-null   object                               \n",
      " 1   name          2000 non-null   object                               \n",
      " 2   published_at  2000 non-null   datetime64[ns, pytz.FixedOffset(180)]\n",
      " 3   description   2000 non-null   object                               \n",
      " 4   key_skills    2000 non-null   object                               \n",
      " 5   vacdate       2000 non-null   object                               \n",
      " 6   weekday_num   2000 non-null   datetime64[ns, pytz.FixedOffset(180)]\n",
      "dtypes: datetime64[ns, pytz.FixedOffset(180)](2), object(5)\n",
      "memory usage: 109.5+ KB\n"
     ]
    }
   ],
   "source": [
    "df_1['weekday_num'] = df_1['published_at']\n",
    "df_1.weekday_num = pd.to_datetime(df_1.weekday_num)\n",
    "df_1.info()"
   ]
  },
  {
   "cell_type": "code",
   "execution_count": 84,
   "metadata": {},
   "outputs": [],
   "source": [
    "df_1['weekday_num'] = df_1['weekday_num'].dt.day_name()"
   ]
  },
  {
   "cell_type": "code",
   "execution_count": 85,
   "metadata": {},
   "outputs": [
    {
     "data": {
      "text/html": [
       "<div>\n",
       "<style scoped>\n",
       "    .dataframe tbody tr th:only-of-type {\n",
       "        vertical-align: middle;\n",
       "    }\n",
       "\n",
       "    .dataframe tbody tr th {\n",
       "        vertical-align: top;\n",
       "    }\n",
       "\n",
       "    .dataframe thead th {\n",
       "        text-align: right;\n",
       "    }\n",
       "</style>\n",
       "<table border=\"1\" class=\"dataframe\">\n",
       "  <thead>\n",
       "    <tr style=\"text-align: right;\">\n",
       "      <th></th>\n",
       "      <th>weekday_num</th>\n",
       "      <th>id</th>\n",
       "    </tr>\n",
       "  </thead>\n",
       "  <tbody>\n",
       "    <tr>\n",
       "      <th>0</th>\n",
       "      <td>Monday</td>\n",
       "      <td>563</td>\n",
       "    </tr>\n",
       "    <tr>\n",
       "      <th>1</th>\n",
       "      <td>Wednesday</td>\n",
       "      <td>424</td>\n",
       "    </tr>\n",
       "    <tr>\n",
       "      <th>2</th>\n",
       "      <td>Tuesday</td>\n",
       "      <td>372</td>\n",
       "    </tr>\n",
       "    <tr>\n",
       "      <th>3</th>\n",
       "      <td>Friday</td>\n",
       "      <td>297</td>\n",
       "    </tr>\n",
       "    <tr>\n",
       "      <th>4</th>\n",
       "      <td>Thursday</td>\n",
       "      <td>286</td>\n",
       "    </tr>\n",
       "    <tr>\n",
       "      <th>5</th>\n",
       "      <td>Sunday</td>\n",
       "      <td>38</td>\n",
       "    </tr>\n",
       "    <tr>\n",
       "      <th>6</th>\n",
       "      <td>Saturday</td>\n",
       "      <td>20</td>\n",
       "    </tr>\n",
       "  </tbody>\n",
       "</table>\n",
       "</div>"
      ],
      "text/plain": [
       "  weekday_num   id\n",
       "0      Monday  563\n",
       "1   Wednesday  424\n",
       "2     Tuesday  372\n",
       "3      Friday  297\n",
       "4    Thursday  286\n",
       "5      Sunday   38\n",
       "6    Saturday   20"
      ]
     },
     "execution_count": 85,
     "metadata": {},
     "output_type": "execute_result"
    }
   ],
   "source": [
    "df_1.groupby('weekday_num')['id'].count().sort_values(ascending=False).reset_index()"
   ]
  },
  {
   "cell_type": "markdown",
   "metadata": {},
   "source": [
    "### 7. Найдите те вакансии с использованием python, которые вам интересны"
   ]
  },
  {
   "cell_type": "code",
   "execution_count": null,
   "metadata": {},
   "outputs": [],
   "source": [
    "#можно исполнять после того как будет зафиксирован датафрейм. скрипт ниже - шаблон"
   ]
  },
  {
   "cell_type": "code",
   "execution_count": 86,
   "metadata": {},
   "outputs": [
    {
     "data": {
      "text/plain": [
       "12"
      ]
     },
     "execution_count": 86,
     "metadata": {},
     "output_type": "execute_result"
    }
   ],
   "source": [
    "nice1 = df_1.name.str.lower().str.contains('data analyst')\n",
    "nice2 = df_1.key_skills.str.lower().str.contains('python')\n",
    "a = df_1[nice1 & nice2].count()\n",
    "a.id"
   ]
  },
  {
   "cell_type": "markdown",
   "metadata": {},
   "source": [
    "### 8. Определите по полю skills какие навыки больше всего востребованы для этих вакансий"
   ]
  },
  {
   "cell_type": "code",
   "execution_count": 88,
   "metadata": {},
   "outputs": [
    {
     "data": {
      "text/html": [
       "<div>\n",
       "<style scoped>\n",
       "    .dataframe tbody tr th:only-of-type {\n",
       "        vertical-align: middle;\n",
       "    }\n",
       "\n",
       "    .dataframe tbody tr th {\n",
       "        vertical-align: top;\n",
       "    }\n",
       "\n",
       "    .dataframe thead th {\n",
       "        text-align: right;\n",
       "    }\n",
       "</style>\n",
       "<table border=\"1\" class=\"dataframe\">\n",
       "  <thead>\n",
       "    <tr style=\"text-align: right;\">\n",
       "      <th></th>\n",
       "      <th>id</th>\n",
       "      <th>name</th>\n",
       "      <th>published_at</th>\n",
       "      <th>description</th>\n",
       "      <th>key_skills</th>\n",
       "      <th>vacdate</th>\n",
       "      <th>skills</th>\n",
       "    </tr>\n",
       "  </thead>\n",
       "  <tbody>\n",
       "    <tr>\n",
       "      <th>0</th>\n",
       "      <td>46380141</td>\n",
       "      <td>Клиентский менеджер внешней дистрибуции (Прямы...</td>\n",
       "      <td>2021-10-14T14:48:43+0300</td>\n",
       "      <td>&lt;p&gt;Хочешь работать в банке, но офисная рутина ...</td>\n",
       "      <td>Активные продажи,Работа в команде,Навыки прода...</td>\n",
       "      <td>2021-10-14</td>\n",
       "      <td>Активные продажи,Работа в команде,Навыки прода...</td>\n",
       "    </tr>\n",
       "    <tr>\n",
       "      <th>2</th>\n",
       "      <td>44951547</td>\n",
       "      <td>Клиентский менеджер</td>\n",
       "      <td>2021-10-06T20:09:35+0300</td>\n",
       "      <td>&lt;p&gt;Клиентский менеджер ― специалист, который п...</td>\n",
       "      <td>Активные продажи,Прямые продажи</td>\n",
       "      <td>2021-10-06</td>\n",
       "      <td>Активные продажи,Прямые продажи</td>\n",
       "    </tr>\n",
       "    <tr>\n",
       "      <th>4</th>\n",
       "      <td>49259518</td>\n",
       "      <td>Стажер по направлению Data Science от SBERSEASONS</td>\n",
       "      <td>2021-10-29T19:39:59+0300</td>\n",
       "      <td>&lt;p&gt;Любишь работать с данными и хочешь применит...</td>\n",
       "      <td>Python,SQL,MS PowerPoint,Data Analysis</td>\n",
       "      <td>2021-10-29</td>\n",
       "      <td>Python,SQL,MS PowerPoint,Data Analysis</td>\n",
       "    </tr>\n",
       "  </tbody>\n",
       "</table>\n",
       "</div>"
      ],
      "text/plain": [
       "         id                                               name  \\\n",
       "0  46380141  Клиентский менеджер внешней дистрибуции (Прямы...   \n",
       "2  44951547                                Клиентский менеджер   \n",
       "4  49259518  Стажер по направлению Data Science от SBERSEASONS   \n",
       "\n",
       "               published_at  \\\n",
       "0  2021-10-14T14:48:43+0300   \n",
       "2  2021-10-06T20:09:35+0300   \n",
       "4  2021-10-29T19:39:59+0300   \n",
       "\n",
       "                                         description  \\\n",
       "0  <p>Хочешь работать в банке, но офисная рутина ...   \n",
       "2  <p>Клиентский менеджер ― специалист, который п...   \n",
       "4  <p>Любишь работать с данными и хочешь применит...   \n",
       "\n",
       "                                          key_skills     vacdate  \\\n",
       "0  Активные продажи,Работа в команде,Навыки прода...  2021-10-14   \n",
       "2                    Активные продажи,Прямые продажи  2021-10-06   \n",
       "4             Python,SQL,MS PowerPoint,Data Analysis  2021-10-29   \n",
       "\n",
       "                                              skills  \n",
       "0  Активные продажи,Работа в команде,Навыки прода...  \n",
       "2                    Активные продажи,Прямые продажи  \n",
       "4             Python,SQL,MS PowerPoint,Data Analysis  "
      ]
     },
     "execution_count": 88,
     "metadata": {},
     "output_type": "execute_result"
    }
   ],
   "source": [
    "#берем отсортированный ранее дата фрейм (поле скилс очищено от пустых значений)\n",
    "\n",
    "df_2.head(3)"
   ]
  },
  {
   "cell_type": "code",
   "execution_count": 92,
   "metadata": {},
   "outputs": [
    {
     "data": {
      "text/html": [
       "<div>\n",
       "<style scoped>\n",
       "    .dataframe tbody tr th:only-of-type {\n",
       "        vertical-align: middle;\n",
       "    }\n",
       "\n",
       "    .dataframe tbody tr th {\n",
       "        vertical-align: top;\n",
       "    }\n",
       "\n",
       "    .dataframe thead th {\n",
       "        text-align: right;\n",
       "    }\n",
       "</style>\n",
       "<table border=\"1\" class=\"dataframe\">\n",
       "  <thead>\n",
       "    <tr style=\"text-align: right;\">\n",
       "      <th></th>\n",
       "      <th>id</th>\n",
       "      <th>name</th>\n",
       "      <th>published_at</th>\n",
       "      <th>description</th>\n",
       "      <th>key_skills</th>\n",
       "      <th>vacdate</th>\n",
       "      <th>skills</th>\n",
       "    </tr>\n",
       "  </thead>\n",
       "  <tbody>\n",
       "    <tr>\n",
       "      <th>0</th>\n",
       "      <td>46380141</td>\n",
       "      <td>Клиентский менеджер внешней дистрибуции (Прямы...</td>\n",
       "      <td>2021-10-14T14:48:43+0300</td>\n",
       "      <td>&lt;p&gt;Хочешь работать в банке, но офисная рутина ...</td>\n",
       "      <td>Активные продажи,Работа в команде,Навыки прода...</td>\n",
       "      <td>2021-10-14</td>\n",
       "      <td>Активные продажи,Работа в команде,Навыки прода...</td>\n",
       "    </tr>\n",
       "    <tr>\n",
       "      <th>2</th>\n",
       "      <td>44951547</td>\n",
       "      <td>Клиентский менеджер</td>\n",
       "      <td>2021-10-06T20:09:35+0300</td>\n",
       "      <td>&lt;p&gt;Клиентский менеджер ― специалист, который п...</td>\n",
       "      <td>Активные продажи,Прямые продажи</td>\n",
       "      <td>2021-10-06</td>\n",
       "      <td>Активные продажи,Прямые продажи</td>\n",
       "    </tr>\n",
       "    <tr>\n",
       "      <th>4</th>\n",
       "      <td>49259518</td>\n",
       "      <td>Стажер по направлению Data Science от SBERSEASONS</td>\n",
       "      <td>2021-10-29T19:39:59+0300</td>\n",
       "      <td>&lt;p&gt;Любишь работать с данными и хочешь применит...</td>\n",
       "      <td>Python,SQL,MS PowerPoint,Data Analysis</td>\n",
       "      <td>2021-10-29</td>\n",
       "      <td>Python,SQL,MS PowerPoint,Data Analysis</td>\n",
       "    </tr>\n",
       "  </tbody>\n",
       "</table>\n",
       "</div>"
      ],
      "text/plain": [
       "         id                                               name  \\\n",
       "0  46380141  Клиентский менеджер внешней дистрибуции (Прямы...   \n",
       "2  44951547                                Клиентский менеджер   \n",
       "4  49259518  Стажер по направлению Data Science от SBERSEASONS   \n",
       "\n",
       "               published_at  \\\n",
       "0  2021-10-14T14:48:43+0300   \n",
       "2  2021-10-06T20:09:35+0300   \n",
       "4  2021-10-29T19:39:59+0300   \n",
       "\n",
       "                                         description  \\\n",
       "0  <p>Хочешь работать в банке, но офисная рутина ...   \n",
       "2  <p>Клиентский менеджер ― специалист, который п...   \n",
       "4  <p>Любишь работать с данными и хочешь применит...   \n",
       "\n",
       "                                          key_skills     vacdate  \\\n",
       "0  Активные продажи,Работа в команде,Навыки прода...  2021-10-14   \n",
       "2                    Активные продажи,Прямые продажи  2021-10-06   \n",
       "4             Python,SQL,MS PowerPoint,Data Analysis  2021-10-29   \n",
       "\n",
       "                                              skills  \n",
       "0  Активные продажи,Работа в команде,Навыки прода...  \n",
       "2                    Активные продажи,Прямые продажи  \n",
       "4             Python,SQL,MS PowerPoint,Data Analysis  "
      ]
     },
     "execution_count": 92,
     "metadata": {},
     "output_type": "execute_result"
    }
   ],
   "source": [
    "#делаю копии фреймов, чтобы потом не проходить по всему коду и не восстанавливать исходную таблицу, а обращаться к этой ячейке\n",
    "df_3 = df_2.copy()\n",
    "df_3.head(3)"
   ]
  },
  {
   "cell_type": "code",
   "execution_count": null,
   "metadata": {},
   "outputs": [],
   "source": [
    "#анализ самых востребованных наборов скилов для соискателей по фрейму"
   ]
  },
  {
   "cell_type": "code",
   "execution_count": 90,
   "metadata": {},
   "outputs": [],
   "source": [
    "not_true = df_3.groupby('skills')['id'].count().sort_values(ascending=False).head(10)"
   ]
  },
  {
   "cell_type": "code",
   "execution_count": 91,
   "metadata": {},
   "outputs": [
    {
     "data": {
      "text/plain": [
       "skills\n",
       "Java                                                                                                          6\n",
       "Linux                                                                                                         5\n",
       "Java,SQL,Spring Framework,Oracle Pl/SQL,Hibernate ORM                                                         3\n",
       "Spring Framework,Java,Hibernate ORM,Apache Maven,Git                                                          3\n",
       "Spring Framework,Java                                                                                         3\n",
       "Python,Scrum,Публичные выступления,Управление проектами,Agile Project Management                              2\n",
       "Git,MVC,ООП,Swift,iOS                                                                                         2\n",
       "Atlassian Jira,Atlassian Confluence,Python,SQL,Java                                                           2\n",
       "Английский язык,SQL,MS SQL,Тестирование,Администрирование                                                     2\n",
       "Atlassian Jira,Agile Project Management,Atlassian Confluence,Cucumber,iOS,аввтоматизированное тестирование    2\n",
       "Name: id, dtype: int64"
      ]
     },
     "execution_count": 91,
     "metadata": {},
     "output_type": "execute_result"
    }
   ],
   "source": [
    "not_true"
   ]
  },
  {
   "cell_type": "code",
   "execution_count": null,
   "metadata": {},
   "outputs": [],
   "source": [
    "#анализ уникальных скилс в вакансиях через список"
   ]
  },
  {
   "cell_type": "code",
   "execution_count": 28,
   "metadata": {},
   "outputs": [],
   "source": [
    "skill_list = df_3.skills.unique().tolist()"
   ]
  },
  {
   "cell_type": "code",
   "execution_count": 30,
   "metadata": {},
   "outputs": [],
   "source": [
    "skill_list.sort()"
   ]
  },
  {
   "cell_type": "code",
   "execution_count": 31,
   "metadata": {},
   "outputs": [
    {
     "name": "stdout",
     "output_type": "stream",
     "text": [
      "1053\n"
     ]
    }
   ],
   "source": [
    "print(len(set(skill_list)))"
   ]
  },
  {
   "cell_type": "code",
   "execution_count": 32,
   "metadata": {},
   "outputs": [
    {
     "data": {
      "text/plain": [
       "list"
      ]
     },
     "execution_count": 32,
     "metadata": {},
     "output_type": "execute_result"
    }
   ],
   "source": [
    "type(skill_list)"
   ]
  },
  {
   "cell_type": "code",
   "execution_count": 34,
   "metadata": {},
   "outputs": [],
   "source": [
    "data_sk = ','.join(skill_list)"
   ]
  },
  {
   "cell_type": "code",
   "execution_count": 35,
   "metadata": {},
   "outputs": [
    {
     "data": {
      "text/plain": [
       "str"
      ]
     },
     "execution_count": 35,
     "metadata": {},
     "output_type": "execute_result"
    }
   ],
   "source": [
    "type(data_sk)"
   ]
  },
  {
   "cell_type": "code",
   "execution_count": 37,
   "metadata": {},
   "outputs": [
    {
     "data": {
      "text/plain": [
       "68001"
      ]
     },
     "execution_count": 37,
     "metadata": {},
     "output_type": "execute_result"
    }
   ],
   "source": [
    "data_sk.split(',')\n",
    "len(data_sk)"
   ]
  },
  {
   "cell_type": "code",
   "execution_count": 47,
   "metadata": {},
   "outputs": [
    {
     "data": {
      "text/plain": [
       "str"
      ]
     },
     "execution_count": 47,
     "metadata": {},
     "output_type": "execute_result"
    }
   ],
   "source": [
    "type(data_sk)"
   ]
  },
  {
   "cell_type": "code",
   "execution_count": 61,
   "metadata": {},
   "outputs": [],
   "source": [
    "from collections import Counter\n",
    "from re import findall"
   ]
  },
  {
   "cell_type": "code",
   "execution_count": 64,
   "metadata": {},
   "outputs": [
    {
     "data": {
      "text/plain": [
       "[('sql', 424),\n",
       " ('java', 251),\n",
       " ('atlassian', 234),\n",
       " ('python', 214),\n",
       " ('git', 199),\n",
       " ('ms', 180),\n",
       " ('jira', 168),\n",
       " ('анализ', 148),\n",
       " ('управление', 148),\n",
       " ('linux', 147)]"
      ]
     },
     "execution_count": 64,
     "metadata": {},
     "output_type": "execute_result"
    }
   ],
   "source": [
    "most_skill = findall(r'\\w+', data_sk.lower())\n",
    "cnt = Counter(most_skill).most_common(10)\n",
    "cnt"
   ]
  },
  {
   "cell_type": "markdown",
   "metadata": {},
   "source": [
    "### 9.Постройте график наиболее востребованных вакансий"
   ]
  },
  {
   "cell_type": "code",
   "execution_count": 402,
   "metadata": {},
   "outputs": [],
   "source": [
    "cool_vac = df_1.groupby('name')['id'].count().sort_values(ascending=False).head(10)"
   ]
  },
  {
   "cell_type": "code",
   "execution_count": 403,
   "metadata": {},
   "outputs": [
    {
     "data": {
      "text/plain": [
       "name\n",
       "Системный аналитик      36\n",
       "DevOps инженер          15\n",
       "Java-разработчик        14\n",
       "Java разработчик        12\n",
       "Frontend-разработчик    10\n",
       "Java developer           9\n",
       "Python разработчик       9\n",
       "QA инженер               8\n",
       "Java Разработчик         8\n",
       "DevOps Engineer          8\n",
       "Name: id, dtype: int64"
      ]
     },
     "execution_count": 403,
     "metadata": {},
     "output_type": "execute_result"
    }
   ],
   "source": [
    "cool_vac"
   ]
  },
  {
   "cell_type": "code",
   "execution_count": 408,
   "metadata": {},
   "outputs": [
    {
     "data": {
      "image/png": "[encoded data removed]",
      "text/plain": [
       "<Figure size 720x720 with 1 Axes>"
      ]
     },
     "metadata": {
      "needs_background": "light"
     },
     "output_type": "display_data"
    }
   ],
   "source": [
    "cool_vac.sort_values(ascending=True).plot(kind='barh')\n",
    "plt.show()"
   ]
  },
  {
   "cell_type": "code",
   "execution_count": null,
   "metadata": {},
   "outputs": [],
   "source": []
  }
 ],
 "metadata": {
  "kernelspec": {
   "display_name": "Python 3",
   "language": "python",
   "name": "python3"
  },
  "language_info": {
   "codemirror_mode": {
    "name": "ipython",
    "version": 3
   },
   "file_extension": ".py",
   "mimetype": "text/x-python",
   "name": "python",
   "nbconvert_exporter": "python",
   "pygments_lexer": "ipython3",
   "version": "3.7.6"
  }
 },
 "nbformat": 4,
 "nbformat_minor": 4
}
